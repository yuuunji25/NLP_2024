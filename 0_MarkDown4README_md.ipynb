{
  "nbformat": 4,
  "nbformat_minor": 0,
  "metadata": {
    "colab": {
      "provenance": [],
      "toc_visible": true,
      "include_colab_link": true
    },
    "kernelspec": {
      "name": "python3",
      "display_name": "Python 3"
    },
    "language_info": {
      "name": "python"
    }
  },
  "cells": [
    {
      "cell_type": "markdown",
      "metadata": {
        "id": "view-in-github",
        "colab_type": "text"
      },
      "source": [
        "<a href=\"https://colab.research.google.com/github/yuuunji25/NLP_2024/blob/main/0_MarkDown4README_md.ipynb\" target=\"_parent\"><img src=\"https://colab.research.google.com/assets/colab-badge.svg\" alt=\"Open In Colab\"/></a>"
      ]
    },
    {
      "cell_type": "markdown",
      "source": [
        "# ✂️✏️📌 **How to Use <font color = 'red'> Markdown Language**\n",
        "\n",
        "#####**how to use <font color=\"red\"> markdown </font> language**\n",
        "# [click this for nv](https://www.naver.com/)\n",
        "\n",
        "* ## For <font color = 'orange'> more syntax</font> of markdown langauge, [Click here.](https://www.markdownguide.org/basic-syntax/)\n",
        "\n",
        "##***python language***\n"
      ],
      "metadata": {
        "id": "nFyrb7heQOTL"
      }
    },
    {
      "cell_type": "markdown",
      "source": [
        "#Text books\n",
        "- 파이썬 200제\n",
        "- jump to python\n"
      ],
      "metadata": {
        "id": "23ctOvpw9Q_g"
      }
    },
    {
      "cell_type": "markdown",
      "source": [
        "# NLP_2024\n",
        "\n",
        "# 🐹🍦 **Python Language**\n",
        "\n",
        "## **Learning Python** using **Colab** ([Visit Colab homepage](https://colab.research.google.com/?utm_source=scs-index)) and **Github** ([Visit Github homepage](https://github.com/))\n",
        "\n",
        "### **1. Sign up github** ([Visit a tutorial on Youtube](https://www.youtube.com/watch?v=c-NikCpec7U))\n",
        "### **2. Sign up Google Colaboratory** (aka. Colab) ([Visit a tutorial on Youtube](https://www.youtube.com/watch?v=2X_EU18OeYM))\n",
        "\n",
        "### **3. Useful References**\n",
        "- Exercises 200 파이썬200제 by 장삼용. 정보문화사 2017\n",
        "- [Jump to Python](https://wikidocs.net/book/1)\n",
        "- [wikidocs for nltk](https://wikidocs.net/21667)\n",
        "\n",
        "### **4. Markdown Language**\n",
        "* [Emoji](https://gist.github.com/rxaviers/7360908)\n",
        "* [Markdown syntax](https://www.markdownguide.org/basic-syntax/)\n",
        "\n",
        "### **5. Class Materials**\n",
        "<table style=\"width: 100%; text-align: left; border-collapse: collapse;\">\n",
        "  <tr>\n",
        "    <th>#</th>\n",
        "    <th>Sessions</th>\n",
        "    <th>Keywords</th>\n",
        "  </tr>\n",
        "  <tr>\n",
        "    <td>1</td>\n",
        "    <td>Markdown Language 👪</td>\n",
        "    <td><a href=\"https://github.com/ms624atyale/NLP_2024/blob/main/0_MarkDown4README_md.ipynb\">syntax</a></td>\n",
        "  </tr>\n",
        "  <tr>\n",
        "    <td>2</td>\n",
        "    <td>Markdown Language</td>\n",
        "    <td><a href=\"https://github.com/ms624atyale/NLP_2024/blob/main/0_MarkDown4README_md.ipynb\">syntax</a></td>\n",
        "  </tr>\n",
        "</table>\n",
        "\n",
        "#💩\n",
        "\n"
      ],
      "metadata": {
        "id": "OtctgkT2NOCS"
      }
    }
  ]
}
